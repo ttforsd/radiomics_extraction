{
 "cells": [
  {
   "cell_type": "code",
   "execution_count": null,
   "metadata": {},
   "outputs": [],
   "source": []
  },
  {
   "cell_type": "code",
   "execution_count": null,
   "metadata": {},
   "outputs": [],
   "source": []
  },
  {
   "cell_type": "code",
   "execution_count": 6,
   "metadata": {},
   "outputs": [],
   "source": [
    "import radiomics\n",
    "\n",
    "import os\n",
    "import SimpleITK as sitk\n",
    "\n",
    "from extractor import *"
   ]
  },
  {
   "cell_type": "code",
   "execution_count": 11,
   "metadata": {},
   "outputs": [],
   "source": [
    "extracter = radiomics.featureextractor.RadiomicsFeatureExtractor()\n",
    "extracter.disableAllImageTypes()\n",
    "extracter.enableImageTypeByName('LoG', customArgs={'sigma':[1,2,3,4,5]})\n",
    "\n",
    "\n",
    "\n"
   ]
  },
  {
   "cell_type": "code",
   "execution_count": 12,
   "metadata": {},
   "outputs": [],
   "source": [
    "scan, seg = \"/mnt/c/Users/yinch/Downloads/RIDER_NIFTI/scan/RIDER-1129164940D20060919T094208SN110_0000.nii.gz\", '/mnt/c/Users/yinch/Downloads/RIDER_NIFTI/seg/RIDER-1129164940D20060919T094208SN110.nii.gz'\n"
   ]
  },
  {
   "cell_type": "code",
   "execution_count": 13,
   "metadata": {},
   "outputs": [
    {
     "name": "stderr",
     "output_type": "stream",
     "text": [
      "GLCM is symmetrical, therefore Sum Average = 2 * Joint Average, only 1 needs to be calculated\n",
      "GLCM is symmetrical, therefore Sum Average = 2 * Joint Average, only 1 needs to be calculated\n",
      "GLCM is symmetrical, therefore Sum Average = 2 * Joint Average, only 1 needs to be calculated\n",
      "GLCM is symmetrical, therefore Sum Average = 2 * Joint Average, only 1 needs to be calculated\n",
      "GLCM is symmetrical, therefore Sum Average = 2 * Joint Average, only 1 needs to be calculated\n"
     ]
    }
   ],
   "source": [
    "res = extracter.execute(scan, seg)"
   ]
  },
  {
   "cell_type": "code",
   "execution_count": 10,
   "metadata": {},
   "outputs": [
    {
     "data": {
      "text/plain": [
       "OrderedDict([('diagnostics_Versions_PyRadiomics', 'v3.1.0'),\n",
       "             ('diagnostics_Versions_Numpy', '1.24.4'),\n",
       "             ('diagnostics_Versions_SimpleITK', '2.4.1'),\n",
       "             ('diagnostics_Versions_PyWavelet', '1.4.1'),\n",
       "             ('diagnostics_Versions_Python', '3.8.20'),\n",
       "             ('diagnostics_Configuration_Settings',\n",
       "              {'minimumROIDimensions': 2,\n",
       "               'minimumROISize': None,\n",
       "               'normalize': False,\n",
       "               'normalizeScale': 1,\n",
       "               'removeOutliers': None,\n",
       "               'resampledPixelSpacing': None,\n",
       "               'interpolator': 'sitkBSpline',\n",
       "               'preCrop': False,\n",
       "               'padDistance': 5,\n",
       "               'distances': [1],\n",
       "               'force2D': False,\n",
       "               'force2Ddimension': 0,\n",
       "               'resegmentRange': None,\n",
       "               'label': 1,\n",
       "               'additionalInfo': True}),\n",
       "             ('diagnostics_Configuration_EnabledImageTypes',\n",
       "              {'LoG': {'sigma': [3.0]}}),\n",
       "             ('diagnostics_Image-original_Hash',\n",
       "              '68dec863f68d1f284f856753c42b5167d201dfe6'),\n",
       "             ('diagnostics_Image-original_Dimensionality', '3D'),\n",
       "             ('diagnostics_Image-original_Spacing',\n",
       "              (0.7558590173721313, 0.7558590173721313, 1.25)),\n",
       "             ('diagnostics_Image-original_Size', (512, 512, 237)),\n",
       "             ('diagnostics_Image-original_Mean', -1010.4899574151019),\n",
       "             ('diagnostics_Image-original_Minimum', -3024.0),\n",
       "             ('diagnostics_Image-original_Maximum', 1862.0),\n",
       "             ('diagnostics_Mask-original_Hash',\n",
       "              '02a5aa9230ad7ee4b2d1be9401650a158a8c0b02'),\n",
       "             ('diagnostics_Mask-original_Spacing',\n",
       "              (0.7558590173721313, 0.7558590173721313, 1.25)),\n",
       "             ('diagnostics_Mask-original_Size', (512, 512, 237)),\n",
       "             ('diagnostics_Mask-original_BoundingBox',\n",
       "              (141, 150, 148, 61, 68, 47)),\n",
       "             ('diagnostics_Mask-original_VoxelNum', 59904),\n",
       "             ('diagnostics_Mask-original_VolumeNum', 1),\n",
       "             ('diagnostics_Mask-original_CenterOfMassIndex',\n",
       "              (169.87868923611111, 182.28240184294873, 167.49138621794873)),\n",
       "             ('diagnostics_Mask-original_CenterOfMass',\n",
       "              (-63.29565782976957, 54.96416037828803, -100.63576722756409)),\n",
       "             ('original_shape_Elongation', 0.7214396488068938),\n",
       "             ('original_shape_Flatness', 0.6342482085896314),\n",
       "             ('original_shape_LeastAxisLength', 33.98143439299896),\n",
       "             ('original_shape_MajorAxisLength', 53.57750157239386),\n",
       "             ('original_shape_Maximum2DDiameterColumn', array(50.73964643)),\n",
       "             ('original_shape_Maximum2DDiameterRow', array(68.6782419)),\n",
       "             ('original_shape_Maximum2DDiameterSlice', array(55.84156282)),\n",
       "             ('original_shape_Maximum3DDiameter', array(71.55478048)),\n",
       "             ('original_shape_MeshVolume', array(42703.22916891)),\n",
       "             ('original_shape_MinorAxisLength', 38.652933918338626),\n",
       "             ('original_shape_Sphericity', array(0.61693223)),\n",
       "             ('original_shape_SurfaceArea', array(9576.80131208)),\n",
       "             ('original_shape_SurfaceVolumeRatio', array(0.2242641)),\n",
       "             ('original_shape_VoxelVolume', 42780.65531821016),\n",
       "             ('log-sigma-3-0-mm-3D_firstorder_10Percentile',\n",
       "              array(-221.60744171)),\n",
       "             ('log-sigma-3-0-mm-3D_firstorder_90Percentile',\n",
       "              array(-6.62985568)),\n",
       "             ('log-sigma-3-0-mm-3D_firstorder_Energy', array(1.13414746e+09)),\n",
       "             ('log-sigma-3-0-mm-3D_firstorder_Entropy', array(3.7057815)),\n",
       "             ('log-sigma-3-0-mm-3D_firstorder_InterquartileRange',\n",
       "              array(126.55569553)),\n",
       "             ('log-sigma-3-0-mm-3D_firstorder_Kurtosis', array(3.12704705)),\n",
       "             ('log-sigma-3-0-mm-3D_firstorder_Maximum', array(159.97012329)),\n",
       "             ('log-sigma-3-0-mm-3D_firstorder_MeanAbsoluteDeviation',\n",
       "              array(69.10949951)),\n",
       "             ('log-sigma-3-0-mm-3D_firstorder_Mean', array(-108.14586751)),\n",
       "             ('log-sigma-3-0-mm-3D_firstorder_Median', array(-101.73390579)),\n",
       "             ('log-sigma-3-0-mm-3D_firstorder_Minimum', array(-465.16879272)),\n",
       "             ('log-sigma-3-0-mm-3D_firstorder_Range', array(625.13891602)),\n",
       "             ('log-sigma-3-0-mm-3D_firstorder_RobustMeanAbsoluteDeviation',\n",
       "              array(50.77955503)),\n",
       "             ('log-sigma-3-0-mm-3D_firstorder_RootMeanSquared',\n",
       "              array(137.59632986)),\n",
       "             ('log-sigma-3-0-mm-3D_firstorder_Skewness', array(-0.57759636)),\n",
       "             ('log-sigma-3-0-mm-3D_firstorder_TotalEnergy',\n",
       "              array(8.09955452e+08)),\n",
       "             ('log-sigma-3-0-mm-3D_firstorder_Uniformity', array(0.09025244)),\n",
       "             ('log-sigma-3-0-mm-3D_firstorder_Variance', array(7237.22133181)),\n",
       "             ('log-sigma-3-0-mm-3D_glcm_Autocorrelation', array(238.35810291)),\n",
       "             ('log-sigma-3-0-mm-3D_glcm_ClusterProminence',\n",
       "              array(6077.75352017)),\n",
       "             ('log-sigma-3-0-mm-3D_glcm_ClusterShade', array(-179.10953386)),\n",
       "             ('log-sigma-3-0-mm-3D_glcm_ClusterTendency', array(44.4301076)),\n",
       "             ('log-sigma-3-0-mm-3D_glcm_Contrast', array(2.0433244)),\n",
       "             ('log-sigma-3-0-mm-3D_glcm_Correlation', array(0.9121382)),\n",
       "             ('log-sigma-3-0-mm-3D_glcm_DifferenceAverage', array(0.94474627)),\n",
       "             ('log-sigma-3-0-mm-3D_glcm_DifferenceEntropy', array(1.82880203)),\n",
       "             ('log-sigma-3-0-mm-3D_glcm_DifferenceVariance',\n",
       "              array(1.09566799)),\n",
       "             ('log-sigma-3-0-mm-3D_glcm_Id', array(0.65682332)),\n",
       "             ('log-sigma-3-0-mm-3D_glcm_Idm', array(0.62685964)),\n",
       "             ('log-sigma-3-0-mm-3D_glcm_Idmn', array(0.99702483)),\n",
       "             ('log-sigma-3-0-mm-3D_glcm_Idn', array(0.96638604)),\n",
       "             ('log-sigma-3-0-mm-3D_glcm_Imc1', array(-0.3846672)),\n",
       "             ('log-sigma-3-0-mm-3D_glcm_Imc2', array(0.96521961)),\n",
       "             ('log-sigma-3-0-mm-3D_glcm_InverseVariance', array(0.41874355)),\n",
       "             ('log-sigma-3-0-mm-3D_glcm_JointAverage', array(15.09176437)),\n",
       "             ('log-sigma-3-0-mm-3D_glcm_JointEnergy', array(0.03065507)),\n",
       "             ('log-sigma-3-0-mm-3D_glcm_JointEntropy', array(5.94866917)),\n",
       "             ('log-sigma-3-0-mm-3D_glcm_MCC', array(0.91936023)),\n",
       "             ('log-sigma-3-0-mm-3D_glcm_MaximumProbability',\n",
       "              array(0.11779683)),\n",
       "             ('log-sigma-3-0-mm-3D_glcm_SumAverage', array(30.18352873)),\n",
       "             ('log-sigma-3-0-mm-3D_glcm_SumEntropy', array(4.59475404)),\n",
       "             ('log-sigma-3-0-mm-3D_glcm_SumSquares', array(11.618358)),\n",
       "             ('log-sigma-3-0-mm-3D_gldm_DependenceEntropy', array(7.74888961)),\n",
       "             ('log-sigma-3-0-mm-3D_gldm_DependenceNonUniformity',\n",
       "              array(3074.34809028)),\n",
       "             ('log-sigma-3-0-mm-3D_gldm_DependenceNonUniformityNormalized',\n",
       "              array(0.05132125)),\n",
       "             ('log-sigma-3-0-mm-3D_gldm_DependenceVariance', array(45.571679)),\n",
       "             ('log-sigma-3-0-mm-3D_gldm_GrayLevelNonUniformity',\n",
       "              array(5406.48237179)),\n",
       "             ('log-sigma-3-0-mm-3D_gldm_GrayLevelVariance',\n",
       "              array(11.63609502)),\n",
       "             ('log-sigma-3-0-mm-3D_gldm_HighGrayLevelEmphasis',\n",
       "              array(241.68564704)),\n",
       "             ('log-sigma-3-0-mm-3D_gldm_LargeDependenceEmphasis',\n",
       "              array(162.41109108)),\n",
       "             ('log-sigma-3-0-mm-3D_gldm_LargeDependenceHighGrayLevelEmphasis',\n",
       "              array(47751.07223224)),\n",
       "             ('log-sigma-3-0-mm-3D_gldm_LargeDependenceLowGrayLevelEmphasis',\n",
       "              array(0.6817616)),\n",
       "             ('log-sigma-3-0-mm-3D_gldm_LowGrayLevelEmphasis',\n",
       "              array(0.00588078)),\n",
       "             ('log-sigma-3-0-mm-3D_gldm_SmallDependenceEmphasis',\n",
       "              array(0.04083209)),\n",
       "             ('log-sigma-3-0-mm-3D_gldm_SmallDependenceHighGrayLevelEmphasis',\n",
       "              array(10.33363929)),\n",
       "             ('log-sigma-3-0-mm-3D_gldm_SmallDependenceLowGrayLevelEmphasis',\n",
       "              array(0.00024331)),\n",
       "             ('log-sigma-3-0-mm-3D_glrlm_GrayLevelNonUniformity',\n",
       "              array(3183.03900545)),\n",
       "             ('log-sigma-3-0-mm-3D_glrlm_GrayLevelNonUniformityNormalized',\n",
       "              array(0.0852598)),\n",
       "             ('log-sigma-3-0-mm-3D_glrlm_GrayLevelVariance',\n",
       "              array(11.57011351)),\n",
       "             ('log-sigma-3-0-mm-3D_glrlm_HighGrayLevelRunEmphasis',\n",
       "              array(225.17975061)),\n",
       "             ('log-sigma-3-0-mm-3D_glrlm_LongRunEmphasis', array(5.49568279)),\n",
       "             ('log-sigma-3-0-mm-3D_glrlm_LongRunHighGrayLevelEmphasis',\n",
       "              array(1544.33677032)),\n",
       "             ('log-sigma-3-0-mm-3D_glrlm_LongRunLowGrayLevelEmphasis',\n",
       "              array(0.02536323)),\n",
       "             ('log-sigma-3-0-mm-3D_glrlm_LowGrayLevelRunEmphasis',\n",
       "              array(0.00647641)),\n",
       "             ('log-sigma-3-0-mm-3D_glrlm_RunEntropy', array(5.12837947)),\n",
       "             ('log-sigma-3-0-mm-3D_glrlm_RunLengthNonUniformity',\n",
       "              array(21256.74894075)),\n",
       "             ('log-sigma-3-0-mm-3D_glrlm_RunLengthNonUniformityNormalized',\n",
       "              array(0.55818994)),\n",
       "             ('log-sigma-3-0-mm-3D_glrlm_RunPercentage', array(0.622722)),\n",
       "             ('log-sigma-3-0-mm-3D_glrlm_RunVariance', array(2.73814537)),\n",
       "             ('log-sigma-3-0-mm-3D_glrlm_ShortRunEmphasis', array(0.77127942)),\n",
       "             ('log-sigma-3-0-mm-3D_glrlm_ShortRunHighGrayLevelEmphasis',\n",
       "              array(170.20913427)),\n",
       "             ('log-sigma-3-0-mm-3D_glrlm_ShortRunLowGrayLevelEmphasis',\n",
       "              array(0.00513376)),\n",
       "             ('log-sigma-3-0-mm-3D_glszm_GrayLevelNonUniformity',\n",
       "              array(111.1645983)),\n",
       "             ('log-sigma-3-0-mm-3D_glszm_GrayLevelNonUniformityNormalized',\n",
       "              array(0.07260914)),\n",
       "             ('log-sigma-3-0-mm-3D_glszm_GrayLevelVariance',\n",
       "              array(17.01493327)),\n",
       "             ('log-sigma-3-0-mm-3D_glszm_HighGrayLevelZoneEmphasis',\n",
       "              array(291.13259308)),\n",
       "             ('log-sigma-3-0-mm-3D_glszm_LargeAreaEmphasis',\n",
       "              array(164643.42913129)),\n",
       "             ('log-sigma-3-0-mm-3D_glszm_LargeAreaHighGrayLevelEmphasis',\n",
       "              array(43742790.06727629)),\n",
       "             ('log-sigma-3-0-mm-3D_glszm_LargeAreaLowGrayLevelEmphasis',\n",
       "              array(683.16843363)),\n",
       "             ('log-sigma-3-0-mm-3D_glszm_LowGrayLevelZoneEmphasis',\n",
       "              array(0.00677863)),\n",
       "             ('log-sigma-3-0-mm-3D_glszm_SizeZoneNonUniformity',\n",
       "              array(320.68647943)),\n",
       "             ('log-sigma-3-0-mm-3D_glszm_SizeZoneNonUniformityNormalized',\n",
       "              array(0.2094621)),\n",
       "             ('log-sigma-3-0-mm-3D_glszm_SmallAreaEmphasis',\n",
       "              array(0.46330206)),\n",
       "             ('log-sigma-3-0-mm-3D_glszm_SmallAreaHighGrayLevelEmphasis',\n",
       "              array(140.1421209)),\n",
       "             ('log-sigma-3-0-mm-3D_glszm_SmallAreaLowGrayLevelEmphasis',\n",
       "              array(0.00207667)),\n",
       "             ('log-sigma-3-0-mm-3D_glszm_ZoneEntropy', array(6.89040082)),\n",
       "             ('log-sigma-3-0-mm-3D_glszm_ZonePercentage', array(0.02555756)),\n",
       "             ('log-sigma-3-0-mm-3D_glszm_ZoneVariance',\n",
       "              array(163112.47822553)),\n",
       "             ('log-sigma-3-0-mm-3D_ngtdm_Busyness', array(4.42433404)),\n",
       "             ('log-sigma-3-0-mm-3D_ngtdm_Coarseness', array(0.00043806)),\n",
       "             ('log-sigma-3-0-mm-3D_ngtdm_Complexity', array(143.4878365)),\n",
       "             ('log-sigma-3-0-mm-3D_ngtdm_Contrast', array(0.01722886)),\n",
       "             ('log-sigma-3-0-mm-3D_ngtdm_Strength', array(0.12747561))])"
      ]
     },
     "execution_count": 10,
     "metadata": {},
     "output_type": "execute_result"
    }
   ],
   "source": [
    "res"
   ]
  },
  {
   "cell_type": "code",
   "execution_count": null,
   "metadata": {},
   "outputs": [],
   "source": [
    "import pandas as pd"
   ]
  },
  {
   "cell_type": "code",
   "execution_count": null,
   "metadata": {},
   "outputs": [],
   "source": [
    "scan_dir = \"/mnt/c/Users/yinch/Downloads/RIDER_NIFTI/scan\"\n",
    "seg_dir = \"/mnt/c/Users/yinch/Downloads/RIDER_NIFTI/seg\"\n",
    "print(scan_dir)"
   ]
  },
  {
   "cell_type": "code",
   "execution_count": null,
   "metadata": {},
   "outputs": [],
   "source": [
    "scans = os.listdir(scan_dir)\n",
    "scans = [os.path.join(scan_dir, scan) for scan in scans if scan.endswith('.nii.gz')]\n",
    "segs = os.listdir(seg_dir)\n",
    "segs = [os.path.join(seg_dir, seg) for seg in segs if seg.endswith('.nii.gz')]\n",
    "\n",
    "print(scans)\n",
    "print(segs)\n"
   ]
  },
  {
   "cell_type": "code",
   "execution_count": null,
   "metadata": {},
   "outputs": [],
   "source": [
    "extractor = radiomics.featureextractor.RadiomicsFeatureExtractor()\n",
    "# use geometryTolerance\n",
    "# extractor.settings['geometryTolerance'] = 0.5\n",
    "\n",
    "\n",
    "\n",
    "for scan, seg in zip(scans, segs):\n",
    "    # print(scan)\n",
    "    # print(seg)\n",
    "    # Extract features\n",
    "    try: \n",
    "        result = extractor.execute(scan, seg)\n",
    "\n",
    "    except Exception as e:\n",
    "        print(e)\n",
    "        print(scan, seg)\n",
    "        print(\"Error in extracting features\")\n",
    "        continue\n",
    "    print(result)"
   ]
  },
  {
   "cell_type": "code",
   "execution_count": null,
   "metadata": {},
   "outputs": [],
   "source": [
    "scan, seg = \"/mnt/c/Users/yinch/Downloads/RIDER_NIFTI/scan/RIDER-1129164940D20060919T094208SN110_0000.nii.gz\", '/mnt/c/Users/yinch/Downloads/RIDER_NIFTI/seg/RIDER-1129164940D20060919T094208SN110.nii.gz'\n",
    "\n",
    "scan, seg = sitk.ReadImage(scan), sitk.ReadImage(seg)\n",
    "\n",
    "w = radiomics.imageoperations.getWaveletImage(scan, seg)\n",
    "\n",
    "for _ in w: \n",
    "    print(get_features(_, seg))\n"
   ]
  },
  {
   "cell_type": "code",
   "execution_count": null,
   "metadata": {},
   "outputs": [],
   "source": [
    "sitk.WriteImage(wavelet, \"./wavelet.nii.gz\")"
   ]
  },
  {
   "cell_type": "code",
   "execution_count": null,
   "metadata": {},
   "outputs": [],
   "source": [
    "import radiomics\n",
    "from radiomics import featureextractor\n",
    "import SimpleITK as sitk\n",
    "\n",
    "# Load Image and Mask\n",
    "scan, seg = \"/mnt/c/Users/yinch/Downloads/RIDER_NIFTI/scan/RIDER-1129164940D20060919T094208SN110_0000.nii.gz\", '/mnt/c/Users/yinch/Downloads/RIDER_NIFTI/seg/RIDER-1129164940D20060919T094208SN110.nii.gz'\n",
    "\n",
    "image_path = scan\n",
    "mask_path = seg\n",
    "\n",
    "image = sitk.ReadImage(image_path)\n",
    "mask = sitk.ReadImage(mask_path)\n",
    "\n",
    "# Initialize Feature Extractor with Wavelet Transform (without YAML)\n",
    "extractor = featureextractor.RadiomicsFeatureExtractor()\n",
    "\n",
    "# Enable Original and Wavelet Transformed Images\n",
    "extractor.enableImageTypeByName(\"Original\")\n",
    "extractor.enableImageTypeByName(\"Wavelet\")  # Enable wavelet features\n",
    "\n",
    "# Enable Specific Feature Classes (Optional: You can enable/disable as needed)\n",
    "extractor.enableAllFeatures()  # Extract all features\n",
    "# OR enable specific feature classes:\n",
    "# extractor.enableFeatureClassByName(\"glcm\")\n",
    "# extractor.enableFeatureClassByName(\"firstorder\")\n",
    "\n",
    "# Run Feature Extraction\n",
    "features = extractor.execute(image, mask)\n",
    "\n",
    "# Print Only Wavelet Features\n",
    "for key, value in features.items():\n",
    "    if \"wavelet\" in key.lower():\n",
    "        print(f\"{key}: {value}\")\n"
   ]
  },
  {
   "cell_type": "code",
   "execution_count": null,
   "metadata": {},
   "outputs": [],
   "source": [
    "config_path = 'data.yaml'\n",
    "dir_pairs = load_config(config_path)\n",
    "print(dir_pairs)\n",
    "pairs = get_all_segs(dir_pairs[0][1])\n",
    "pairs = [(get_scan(seg, dir_pairs[0][0]), seg) for seg in pairs]\n",
    "pairs = [pairs[0]]\n",
    "print(pairs)"
   ]
  },
  {
   "cell_type": "code",
   "execution_count": null,
   "metadata": {},
   "outputs": [],
   "source": [
    "features = parallel_feature_extraction(pairs) "
   ]
  },
  {
   "cell_type": "code",
   "execution_count": null,
   "metadata": {},
   "outputs": [],
   "source": [
    "features"
   ]
  },
  {
   "cell_type": "code",
   "execution_count": null,
   "metadata": {},
   "outputs": [],
   "source": [
    "features[0][1].keys()"
   ]
  },
  {
   "cell_type": "code",
   "execution_count": null,
   "metadata": {},
   "outputs": [],
   "source": [
    "features[0][1].items()"
   ]
  },
  {
   "cell_type": "code",
   "execution_count": null,
   "metadata": {},
   "outputs": [],
   "source": [
    "df = pd.DataFrame(features[0][1].items(), features[0][1].keys())\n",
    "\n",
    "features[0][1].items()\n",
    "\n",
    "for _ in features[0][1].items():\n",
    "    print(_)"
   ]
  },
  {
   "cell_type": "code",
   "execution_count": null,
   "metadata": {},
   "outputs": [],
   "source": [
    "!pyradiomics"
   ]
  },
  {
   "cell_type": "code",
   "execution_count": null,
   "metadata": {},
   "outputs": [],
   "source": []
  }
 ],
 "metadata": {
  "kernelspec": {
   "display_name": "venv",
   "language": "python",
   "name": "python3"
  },
  "language_info": {
   "codemirror_mode": {
    "name": "ipython",
    "version": 3
   },
   "file_extension": ".py",
   "mimetype": "text/x-python",
   "name": "python",
   "nbconvert_exporter": "python",
   "pygments_lexer": "ipython3",
   "version": "3.8.20"
  }
 },
 "nbformat": 4,
 "nbformat_minor": 2
}
